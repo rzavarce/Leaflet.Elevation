{
  "nbformat": 4,
  "nbformat_minor": 0,
  "metadata": {
    "colab": {
      "name": "Machine_Learning_Regresión_múltiple,_regularización_y_overfitting.ipynb",
      "provenance": [],
      "collapsed_sections": [
        "Hv_URU-2HeCL",
        "g8IWsXZoN1jS",
        "JNp4QE2JN1jX",
        "VeZYLmeON1jc",
        "lt23XbjwN1jf",
        "McmEMrWSN1jn",
        "re0nfvRKN1jv",
        "omjQESE8N1j4"
      ],
      "toc_visible": true,
      "include_colab_link": true
    },
    "language_info": {
      "codemirror_mode": {
        "name": "ipython",
        "version": 2
      },
      "file_extension": ".py",
      "mimetype": "text/x-python",
      "name": "python",
      "nbconvert_exporter": "python",
      "pygments_lexer": "ipython2",
      "version": "2.7.10"
    },
    "kernelspec": {
      "display_name": "Python 2",
      "language": "python",
      "name": "python2"
    }
  },
  "cells": [
    {
      "cell_type": "markdown",
      "metadata": {
        "id": "view-in-github",
        "colab_type": "text"
      },
      "source": [
        "<a href=\"https://colab.research.google.com/github/rzavarce/Leaflet.Elevation/blob/master/Machine_Learning_Regresio%CC%81n_mu%CC%81ltiple%2C_regularizacio%CC%81n_y_overfitting.ipynb\" target=\"_parent\"><img src=\"https://colab.research.google.com/assets/colab-badge.svg\" alt=\"Open In Colab\"/></a>"
      ]
    },
    {
      "cell_type": "markdown",
      "metadata": {
        "id": "jFpV2DdvQIo8",
        "colab_type": "text"
      },
      "source": [
        "# Machine Learning - Predicción del precio de viviendas con regresión simple y múltiple"
      ]
    },
    {
      "cell_type": "markdown",
      "metadata": {
        "id": "Hv_URU-2HeCL",
        "colab_type": "text"
      },
      "source": [
        "# Descarga de datos con los que trabajaremos"
      ]
    },
    {
      "cell_type": "code",
      "metadata": {
        "id": "VzUEtldiGW4P",
        "colab_type": "code",
        "outputId": "a86faf96-de91-413f-e4a3-d3cad9d5df1b",
        "colab": {
          "base_uri": "https://localhost:8080/",
          "height": 119
        }
      },
      "source": [
        "!git clone https://github.com/marcos-garcia/machine-learning-curso.git"
      ],
      "execution_count": 1,
      "outputs": [
        {
          "output_type": "stream",
          "text": [
            "Cloning into 'machine-learning-curso'...\n",
            "remote: Enumerating objects: 65, done.\u001b[K\n",
            "remote: Counting objects: 100% (65/65), done.\u001b[K\n",
            "remote: Compressing objects: 100% (49/49), done.\u001b[K\n",
            "remote: Total 65 (delta 15), reused 56 (delta 6), pack-reused 0\u001b[K\n",
            "Unpacking objects: 100% (65/65), done.\n"
          ],
          "name": "stdout"
        }
      ]
    },
    {
      "cell_type": "markdown",
      "metadata": {
        "id": "g8IWsXZoN1jS",
        "colab_type": "text"
      },
      "source": [
        "#Importamos las librerías que se van a utilizar\n",
        "* matplotlib\n",
        "* numpy\n",
        "* sklearn\n",
        "* pandas\n",
        "* seaborn"
      ]
    },
    {
      "cell_type": "code",
      "metadata": {
        "id": "tZ446Qd2N1jT",
        "colab_type": "code",
        "colab": {}
      },
      "source": [
        "import matplotlib.pyplot as plt\n",
        "import numpy as np\n",
        "from sklearn.model_selection import train_test_split\n",
        "from sklearn import datasets, linear_model\n",
        "from sklearn.metrics import mean_squared_error, r2_score\n",
        "import pandas as pd\n",
        "import seaborn as sns\n",
        "import math"
      ],
      "execution_count": 0,
      "outputs": []
    },
    {
      "cell_type": "markdown",
      "metadata": {
        "id": "JNp4QE2JN1jX",
        "colab_type": "text"
      },
      "source": [
        "#Cargando datos de propiedades\n",
        "\n",
        "El dataset contiene ventas de propiedades en King Country, una región donde se encuentra la ciudad de Seattle, WA"
      ]
    },
    {
      "cell_type": "code",
      "metadata": {
        "id": "rrJa-Mo4IjhR",
        "colab_type": "code",
        "colab": {}
      },
      "source": [
        "dtype_dict = {'bathrooms':float, 'waterfront':int, 'sqft_above':int, 'sqft_living15':float, 'grade':int, 'yr_renovated':int, 'price':float, 'bedrooms':float, 'zipcode':str, 'long':float, 'sqft_lot15':float, 'sqft_living':float, 'floors':str, 'condition':int, 'lat':float, 'date':str, 'sqft_basement':int, 'yr_built':int, 'id':str, 'sqft_lot':int, 'view':int}\n",
        "ventas=pd.read_csv('machine-learning-curso/regresion/simple/data/kc_house_data.csv.zip', sep=',',header=0, dtype=dtype_dict, compression='zip')"
      ],
      "execution_count": 0,
      "outputs": []
    },
    {
      "cell_type": "code",
      "metadata": {
        "id": "vbfUgcFvN1ja",
        "colab_type": "code",
        "outputId": "e4efd393-97fd-4a23-86cd-84cc5858f5bc",
        "colab": {
          "base_uri": "https://localhost:8080/",
          "height": 521
        }
      },
      "source": [
        "ventas.head()\n",
        "ventas.info()\n",
        "ventas.describe()\n",
        "ventas.columns"
      ],
      "execution_count": 0,
      "outputs": [
        {
          "output_type": "stream",
          "text": [
            "<class 'pandas.core.frame.DataFrame'>\n",
            "RangeIndex: 21613 entries, 0 to 21612\n",
            "Data columns (total 21 columns):\n",
            "id               21613 non-null object\n",
            "date             21613 non-null object\n",
            "price            21613 non-null float64\n",
            "bedrooms         21613 non-null float64\n",
            "bathrooms        21613 non-null float64\n",
            "sqft_living      21613 non-null float64\n",
            "sqft_lot         21613 non-null int64\n",
            "floors           21613 non-null object\n",
            "waterfront       21613 non-null int64\n",
            "view             21613 non-null int64\n",
            "condition        21613 non-null int64\n",
            "grade            21613 non-null int64\n",
            "sqft_above       21613 non-null int64\n",
            "sqft_basement    21613 non-null int64\n",
            "yr_built         21613 non-null int64\n",
            "yr_renovated     21613 non-null int64\n",
            "zipcode          21613 non-null object\n",
            "lat              21613 non-null float64\n",
            "long             21613 non-null float64\n",
            "sqft_living15    21613 non-null float64\n",
            "sqft_lot15       21613 non-null float64\n",
            "dtypes: float64(8), int64(9), object(4)\n",
            "memory usage: 3.5+ MB\n"
          ],
          "name": "stdout"
        },
        {
          "output_type": "execute_result",
          "data": {
            "text/plain": [
              "Index([u'id', u'date', u'price', u'bedrooms', u'bathrooms', u'sqft_living',\n",
              "       u'sqft_lot', u'floors', u'waterfront', u'view', u'condition', u'grade',\n",
              "       u'sqft_above', u'sqft_basement', u'yr_built', u'yr_renovated',\n",
              "       u'zipcode', u'lat', u'long', u'sqft_living15', u'sqft_lot15'],\n",
              "      dtype='object')"
            ]
          },
          "metadata": {
            "tags": []
          },
          "execution_count": 8
        }
      ]
    },
    {
      "cell_type": "code",
      "metadata": {
        "id": "WolBSMPJUf3d",
        "colab_type": "code",
        "outputId": "c6fe7f6a-41c1-43ee-c6c8-98db9d43ac4a",
        "colab": {
          "base_uri": "https://localhost:8080/",
          "height": 158
        }
      },
      "source": [
        "ventas.head()"
      ],
      "execution_count": 0,
      "outputs": [
        {
          "output_type": "error",
          "ename": "NameError",
          "evalue": "ignored",
          "traceback": [
            "\u001b[0;31m\u001b[0m",
            "\u001b[0;31mNameError\u001b[0mTraceback (most recent call last)",
            "\u001b[0;32m<ipython-input-4-d60195e17539>\u001b[0m in \u001b[0;36m<module>\u001b[0;34m()\u001b[0m\n\u001b[0;32m----> 1\u001b[0;31m \u001b[0mventas\u001b[0m\u001b[0;34m.\u001b[0m\u001b[0mhead\u001b[0m\u001b[0;34m(\u001b[0m\u001b[0;34m)\u001b[0m\u001b[0;34m\u001b[0m\u001b[0m\n\u001b[0m",
            "\u001b[0;31mNameError\u001b[0m: name 'ventas' is not defined"
          ]
        }
      ]
    },
    {
      "cell_type": "code",
      "metadata": {
        "id": "G9f_9USrUmJX",
        "colab_type": "code",
        "outputId": "e0e2c997-04d8-454e-c619-f8b4aeef2e06",
        "colab": {
          "base_uri": "https://localhost:8080/",
          "height": 440
        }
      },
      "source": [
        "ventas.info()"
      ],
      "execution_count": 0,
      "outputs": [
        {
          "output_type": "stream",
          "text": [
            "<class 'pandas.core.frame.DataFrame'>\n",
            "RangeIndex: 21613 entries, 0 to 21612\n",
            "Data columns (total 21 columns):\n",
            "id               21613 non-null object\n",
            "date             21613 non-null object\n",
            "price            21613 non-null float64\n",
            "bedrooms         21613 non-null float64\n",
            "bathrooms        21613 non-null float64\n",
            "sqft_living      21613 non-null float64\n",
            "sqft_lot         21613 non-null int64\n",
            "floors           21613 non-null object\n",
            "waterfront       21613 non-null int64\n",
            "view             21613 non-null int64\n",
            "condition        21613 non-null int64\n",
            "grade            21613 non-null int64\n",
            "sqft_above       21613 non-null int64\n",
            "sqft_basement    21613 non-null int64\n",
            "yr_built         21613 non-null int64\n",
            "yr_renovated     21613 non-null int64\n",
            "zipcode          21613 non-null object\n",
            "lat              21613 non-null float64\n",
            "long             21613 non-null float64\n",
            "sqft_living15    21613 non-null float64\n",
            "sqft_lot15       21613 non-null float64\n",
            "dtypes: float64(8), int64(9), object(4)\n",
            "memory usage: 3.5+ MB\n"
          ],
          "name": "stdout"
        }
      ]
    },
    {
      "cell_type": "code",
      "metadata": {
        "id": "5rOKliPvUpPn",
        "colab_type": "code",
        "outputId": "f438acad-6852-4caf-efd0-10f310702c02",
        "colab": {
          "base_uri": "https://localhost:8080/",
          "height": 297
        }
      },
      "source": [
        "ventas.describe()"
      ],
      "execution_count": 0,
      "outputs": [
        {
          "output_type": "execute_result",
          "data": {
            "text/plain": [
              "              price      bedrooms  ...  sqft_living15     sqft_lot15\n",
              "count  2.161300e+04  21613.000000  ...   21613.000000   21613.000000\n",
              "mean   5.400881e+05      3.370842  ...    1986.552492   12768.455652\n",
              "std    3.671272e+05      0.930062  ...     685.391304   27304.179631\n",
              "min    7.500000e+04      0.000000  ...     399.000000     651.000000\n",
              "25%    3.219500e+05      3.000000  ...    1490.000000    5100.000000\n",
              "50%    4.500000e+05      3.000000  ...    1840.000000    7620.000000\n",
              "75%    6.450000e+05      4.000000  ...    2360.000000   10083.000000\n",
              "max    7.700000e+06     33.000000  ...    6210.000000  871200.000000\n",
              "\n",
              "[8 rows x 17 columns]"
            ],
            "text/html": [
              "<div>\n",
              "<style scoped>\n",
              "    .dataframe tbody tr th:only-of-type {\n",
              "        vertical-align: middle;\n",
              "    }\n",
              "\n",
              "    .dataframe tbody tr th {\n",
              "        vertical-align: top;\n",
              "    }\n",
              "\n",
              "    .dataframe thead th {\n",
              "        text-align: right;\n",
              "    }\n",
              "</style>\n",
              "<table border=\"1\" class=\"dataframe\">\n",
              "  <thead>\n",
              "    <tr style=\"text-align: right;\">\n",
              "      <th></th>\n",
              "      <th>price</th>\n",
              "      <th>bedrooms</th>\n",
              "      <th>bathrooms</th>\n",
              "      <th>sqft_living</th>\n",
              "      <th>sqft_lot</th>\n",
              "      <th>waterfront</th>\n",
              "      <th>view</th>\n",
              "      <th>condition</th>\n",
              "      <th>grade</th>\n",
              "      <th>sqft_above</th>\n",
              "      <th>sqft_basement</th>\n",
              "      <th>yr_built</th>\n",
              "      <th>yr_renovated</th>\n",
              "      <th>lat</th>\n",
              "      <th>long</th>\n",
              "      <th>sqft_living15</th>\n",
              "      <th>sqft_lot15</th>\n",
              "    </tr>\n",
              "  </thead>\n",
              "  <tbody>\n",
              "    <tr>\n",
              "      <th>count</th>\n",
              "      <td>2.161300e+04</td>\n",
              "      <td>21613.000000</td>\n",
              "      <td>21613.000000</td>\n",
              "      <td>21613.000000</td>\n",
              "      <td>2.161300e+04</td>\n",
              "      <td>21613.000000</td>\n",
              "      <td>21613.000000</td>\n",
              "      <td>21613.000000</td>\n",
              "      <td>21613.000000</td>\n",
              "      <td>21613.000000</td>\n",
              "      <td>21613.000000</td>\n",
              "      <td>21613.000000</td>\n",
              "      <td>21613.000000</td>\n",
              "      <td>21613.000000</td>\n",
              "      <td>21613.000000</td>\n",
              "      <td>21613.000000</td>\n",
              "      <td>21613.000000</td>\n",
              "    </tr>\n",
              "    <tr>\n",
              "      <th>mean</th>\n",
              "      <td>5.400881e+05</td>\n",
              "      <td>3.370842</td>\n",
              "      <td>2.114757</td>\n",
              "      <td>2079.899736</td>\n",
              "      <td>1.510697e+04</td>\n",
              "      <td>0.007542</td>\n",
              "      <td>0.234303</td>\n",
              "      <td>3.409430</td>\n",
              "      <td>7.656873</td>\n",
              "      <td>1788.390691</td>\n",
              "      <td>291.509045</td>\n",
              "      <td>1971.005136</td>\n",
              "      <td>84.402258</td>\n",
              "      <td>47.560053</td>\n",
              "      <td>-122.213896</td>\n",
              "      <td>1986.552492</td>\n",
              "      <td>12768.455652</td>\n",
              "    </tr>\n",
              "    <tr>\n",
              "      <th>std</th>\n",
              "      <td>3.671272e+05</td>\n",
              "      <td>0.930062</td>\n",
              "      <td>0.770163</td>\n",
              "      <td>918.440897</td>\n",
              "      <td>4.142051e+04</td>\n",
              "      <td>0.086517</td>\n",
              "      <td>0.766318</td>\n",
              "      <td>0.650743</td>\n",
              "      <td>1.175459</td>\n",
              "      <td>828.090978</td>\n",
              "      <td>442.575043</td>\n",
              "      <td>29.373411</td>\n",
              "      <td>401.679240</td>\n",
              "      <td>0.138564</td>\n",
              "      <td>0.140828</td>\n",
              "      <td>685.391304</td>\n",
              "      <td>27304.179631</td>\n",
              "    </tr>\n",
              "    <tr>\n",
              "      <th>min</th>\n",
              "      <td>7.500000e+04</td>\n",
              "      <td>0.000000</td>\n",
              "      <td>0.000000</td>\n",
              "      <td>290.000000</td>\n",
              "      <td>5.200000e+02</td>\n",
              "      <td>0.000000</td>\n",
              "      <td>0.000000</td>\n",
              "      <td>1.000000</td>\n",
              "      <td>1.000000</td>\n",
              "      <td>290.000000</td>\n",
              "      <td>0.000000</td>\n",
              "      <td>1900.000000</td>\n",
              "      <td>0.000000</td>\n",
              "      <td>47.155900</td>\n",
              "      <td>-122.519000</td>\n",
              "      <td>399.000000</td>\n",
              "      <td>651.000000</td>\n",
              "    </tr>\n",
              "    <tr>\n",
              "      <th>25%</th>\n",
              "      <td>3.219500e+05</td>\n",
              "      <td>3.000000</td>\n",
              "      <td>1.750000</td>\n",
              "      <td>1427.000000</td>\n",
              "      <td>5.040000e+03</td>\n",
              "      <td>0.000000</td>\n",
              "      <td>0.000000</td>\n",
              "      <td>3.000000</td>\n",
              "      <td>7.000000</td>\n",
              "      <td>1190.000000</td>\n",
              "      <td>0.000000</td>\n",
              "      <td>1951.000000</td>\n",
              "      <td>0.000000</td>\n",
              "      <td>47.471000</td>\n",
              "      <td>-122.328000</td>\n",
              "      <td>1490.000000</td>\n",
              "      <td>5100.000000</td>\n",
              "    </tr>\n",
              "    <tr>\n",
              "      <th>50%</th>\n",
              "      <td>4.500000e+05</td>\n",
              "      <td>3.000000</td>\n",
              "      <td>2.250000</td>\n",
              "      <td>1910.000000</td>\n",
              "      <td>7.618000e+03</td>\n",
              "      <td>0.000000</td>\n",
              "      <td>0.000000</td>\n",
              "      <td>3.000000</td>\n",
              "      <td>7.000000</td>\n",
              "      <td>1560.000000</td>\n",
              "      <td>0.000000</td>\n",
              "      <td>1975.000000</td>\n",
              "      <td>0.000000</td>\n",
              "      <td>47.571800</td>\n",
              "      <td>-122.230000</td>\n",
              "      <td>1840.000000</td>\n",
              "      <td>7620.000000</td>\n",
              "    </tr>\n",
              "    <tr>\n",
              "      <th>75%</th>\n",
              "      <td>6.450000e+05</td>\n",
              "      <td>4.000000</td>\n",
              "      <td>2.500000</td>\n",
              "      <td>2550.000000</td>\n",
              "      <td>1.068800e+04</td>\n",
              "      <td>0.000000</td>\n",
              "      <td>0.000000</td>\n",
              "      <td>4.000000</td>\n",
              "      <td>8.000000</td>\n",
              "      <td>2210.000000</td>\n",
              "      <td>560.000000</td>\n",
              "      <td>1997.000000</td>\n",
              "      <td>0.000000</td>\n",
              "      <td>47.678000</td>\n",
              "      <td>-122.125000</td>\n",
              "      <td>2360.000000</td>\n",
              "      <td>10083.000000</td>\n",
              "    </tr>\n",
              "    <tr>\n",
              "      <th>max</th>\n",
              "      <td>7.700000e+06</td>\n",
              "      <td>33.000000</td>\n",
              "      <td>8.000000</td>\n",
              "      <td>13540.000000</td>\n",
              "      <td>1.651359e+06</td>\n",
              "      <td>1.000000</td>\n",
              "      <td>4.000000</td>\n",
              "      <td>5.000000</td>\n",
              "      <td>13.000000</td>\n",
              "      <td>9410.000000</td>\n",
              "      <td>4820.000000</td>\n",
              "      <td>2015.000000</td>\n",
              "      <td>2015.000000</td>\n",
              "      <td>47.777600</td>\n",
              "      <td>-121.315000</td>\n",
              "      <td>6210.000000</td>\n",
              "      <td>871200.000000</td>\n",
              "    </tr>\n",
              "  </tbody>\n",
              "</table>\n",
              "</div>"
            ]
          },
          "metadata": {
            "tags": []
          },
          "execution_count": 10
        }
      ]
    },
    {
      "cell_type": "code",
      "metadata": {
        "id": "ZLRD9RL3Uwaw",
        "colab_type": "code",
        "outputId": "c95d0f3e-e46d-4081-b914-2fc471477a94",
        "colab": {
          "base_uri": "https://localhost:8080/",
          "height": 98
        }
      },
      "source": [
        "ventas.columns"
      ],
      "execution_count": 0,
      "outputs": [
        {
          "output_type": "execute_result",
          "data": {
            "text/plain": [
              "Index([u'id', u'date', u'price', u'bedrooms', u'bathrooms', u'sqft_living',\n",
              "       u'sqft_lot', u'floors', u'waterfront', u'view', u'condition', u'grade',\n",
              "       u'sqft_above', u'sqft_basement', u'yr_built', u'yr_renovated',\n",
              "       u'zipcode', u'lat', u'long', u'sqft_living15', u'sqft_lot15'],\n",
              "      dtype='object')"
            ]
          },
          "metadata": {
            "tags": []
          },
          "execution_count": 11
        }
      ]
    },
    {
      "cell_type": "markdown",
      "metadata": {
        "id": "VeZYLmeON1jc",
        "colab_type": "text"
      },
      "source": [
        "#Explorando los datos de ventas de propiedades"
      ]
    },
    {
      "cell_type": "code",
      "metadata": {
        "id": "E-N1K1vNXsN0",
        "colab_type": "code",
        "colab": {}
      },
      "source": [
        "numerical = [\n",
        "  'bathrooms', 'sqft_above', 'sqft_living15', 'price', 'bedrooms', 'long', 'sqft_lot15', 'floors', 'sqft_living', 'sqft_basement'\n",
        "]\n",
        "categorical = [\n",
        "  'waterfront', 'condition', 'view'\n",
        "]\n"
      ],
      "execution_count": 0,
      "outputs": []
    },
    {
      "cell_type": "code",
      "metadata": {
        "id": "D38vlfD5WjPi",
        "colab_type": "code",
        "outputId": "d3eb0dd3-664e-4d5e-ecf9-fe771489d195",
        "colab": {
          "base_uri": "https://localhost:8080/",
          "height": 1000
        }
      },
      "source": [
        "ventas[numerical].hist(bins=15, figsize=(15, 20), layout=(4, 3))"
      ],
      "execution_count": 0,
      "outputs": [
        {
          "output_type": "execute_result",
          "data": {
            "text/plain": [
              "array([[<matplotlib.axes._subplots.AxesSubplot object at 0x7f6496b576d0>,\n",
              "        <matplotlib.axes._subplots.AxesSubplot object at 0x7f64886525d0>,\n",
              "        <matplotlib.axes._subplots.AxesSubplot object at 0x7f648860a4d0>],\n",
              "       [<matplotlib.axes._subplots.AxesSubplot object at 0x7f64885c16d0>,\n",
              "        <matplotlib.axes._subplots.AxesSubplot object at 0x7f64885788d0>,\n",
              "        <matplotlib.axes._subplots.AxesSubplot object at 0x7f6488530ad0>],\n",
              "       [<matplotlib.axes._subplots.AxesSubplot object at 0x7f64884e8cd0>,\n",
              "        <matplotlib.axes._subplots.AxesSubplot object at 0x7f64884a2ed0>,\n",
              "        <matplotlib.axes._subplots.AxesSubplot object at 0x7f6488465110>],\n",
              "       [<matplotlib.axes._subplots.AxesSubplot object at 0x7f648841c310>,\n",
              "        <matplotlib.axes._subplots.AxesSubplot object at 0x7f6488455510>,\n",
              "        <matplotlib.axes._subplots.AxesSubplot object at 0x7f648840c710>]],\n",
              "      dtype=object)"
            ]
          },
          "metadata": {
            "tags": []
          },
          "execution_count": 13
        },
        {
          "output_type": "display_data",
          "data": {
            "image/png": "[encoded data removed]",
            "text/plain": [
              "<Figure size 1080x1440 with 12 Axes>"
            ]
          },
          "metadata": {
            "tags": [],
            "needs_background": "light"
          }
        }
      ]
    },
    {
      "cell_type": "code",
      "metadata": {
        "id": "-YywCN0ZXyaW",
        "colab_type": "code",
        "outputId": "c2cb756d-d575-4f1e-ca63-d0e03b9e8a98",
        "colab": {
          "base_uri": "https://localhost:8080/",
          "height": 333
        }
      },
      "source": [
        "fig, ax = plt.subplots(1, 3, figsize=(15, 5))\n",
        "for variable, subplot in zip(categorical, ax.flatten()):\n",
        "    sns.countplot(ventas[variable], ax=subplot)\n",
        "    for label in subplot.get_xticklabels():\n",
        "        label.set_rotation(90)"
      ],
      "execution_count": 0,
      "outputs": [
        {
          "output_type": "display_data",
          "data": {
            "image/png": "[encoded data removed]",
            "text/plain": [
              "<Figure size 1080x360 with 3 Axes>"
            ]
          },
          "metadata": {
            "tags": [],
            "needs_background": "light"
          }
        }
      ]
    },
    {
      "cell_type": "markdown",
      "metadata": {
        "id": "Lwdv9bt2N1jc",
        "colab_type": "text"
      },
      "source": [
        "El precio de las propiedades está correlado con el número de metros cuadrados."
      ]
    },
    {
      "cell_type": "code",
      "metadata": {
        "id": "4KqVueQ8ocxi",
        "colab_type": "code",
        "outputId": "e0df140b-9661-4009-da98-6ae94850e729",
        "colab": {
          "base_uri": "https://localhost:8080/",
          "height": 348
        }
      },
      "source": [
        "sns.heatmap(ventas[numerical].corr())"
      ],
      "execution_count": 0,
      "outputs": [
        {
          "output_type": "execute_result",
          "data": {
            "text/plain": [
              "<matplotlib.axes._subplots.AxesSubplot at 0x7f64858446d0>"
            ]
          },
          "metadata": {
            "tags": []
          },
          "execution_count": 15
        },
        {
          "output_type": "display_data",
          "data": {
            "image/png": "[encoded data removed]",
            "text/plain": [
              "<Figure size 432x288 with 2 Axes>"
            ]
          },
          "metadata": {
            "tags": [],
            "needs_background": "light"
          }
        }
      ]
    },
    {
      "cell_type": "code",
      "metadata": {
        "id": "GZH6txeWN1jd",
        "colab_type": "code",
        "outputId": "e4e051b3-4dd3-414c-c595-44a9f808701d",
        "colab": {
          "base_uri": "https://localhost:8080/",
          "height": 300
        }
      },
      "source": [
        "ventas.plot.scatter(x='sqft_living',y='price')"
      ],
      "execution_count": 0,
      "outputs": [
        {
          "output_type": "execute_result",
          "data": {
            "text/plain": [
              "<matplotlib.axes._subplots.AxesSubplot at 0x7f64853f29d0>"
            ]
          },
          "metadata": {
            "tags": []
          },
          "execution_count": 16
        },
        {
          "output_type": "display_data",
          "data": {
            "image/png": "[encoded data removed]",
            "text/plain": [
              "<Figure size 432x288 with 1 Axes>"
            ]
          },
          "metadata": {
            "tags": [],
            "needs_background": "light"
          }
        }
      ]
    },
    {
      "cell_type": "markdown",
      "metadata": {
        "id": "lt23XbjwN1jf",
        "colab_type": "text"
      },
      "source": [
        "#Crear un modelo de regresión simple del precio en función del número de metros cuadrados"
      ]
    },
    {
      "cell_type": "markdown",
      "metadata": {
        "id": "nkMx3llCN1jg",
        "colab_type": "text"
      },
      "source": [
        "Dividimos los datos en entrenamiento y test.\n",
        "Usaremos los dataset que ya vienen divididos de manera que todo el mundo que corra este notebook obtenga los mismos resultados.\n",
        "En la práctica, se debería utilizar un valor aleatorio."
      ]
    },
    {
      "cell_type": "code",
      "metadata": {
        "id": "aTmQQBB_r908",
        "colab_type": "code",
        "colab": {}
      },
      "source": [
        "prediction_var = ['sqft_living']\n",
        "criterion_var = 'price'"
      ],
      "execution_count": 0,
      "outputs": []
    },
    {
      "cell_type": "markdown",
      "metadata": {
        "id": "U6vVF0D5QtWB",
        "colab_type": "text"
      },
      "source": [
        "Podemos dividir los datos de forma aleatoria con la función train_test_split. La variable random_state establece la semilla aleatoria: si damos un valor a dicha semilla obtendremos los mismos resultados de la extracción aleatoria y el experimento podrá ser reproducible de nuevo"
      ]
    },
    {
      "cell_type": "code",
      "metadata": {
        "id": "MZVrKAMJN1jh",
        "colab_type": "code",
        "colab": {}
      },
      "source": [
        "X_train, X_test, y_train, y_test = train_test_split(ventas[prediction_var], ventas[criterion_var], test_size=0.2, random_state=1)"
      ],
      "execution_count": 0,
      "outputs": []
    },
    {
      "cell_type": "code",
      "metadata": {
        "id": "UPDixjDnLglK",
        "colab_type": "code",
        "colab": {}
      },
      "source": [
        "ventas_train, ventas_test = train_test_split(ventas, test_size=0.2, random_state=0)"
      ],
      "execution_count": 0,
      "outputs": []
    },
    {
      "cell_type": "markdown",
      "metadata": {
        "id": "ttgJD364Q_Lf",
        "colab_type": "text"
      },
      "source": [
        "Aun así, lo que utilizaremos será una disección ya realizada, de manera que nos aseguremos que la repartición es la misma"
      ]
    },
    {
      "cell_type": "code",
      "metadata": {
        "id": "U4LLFAWXaj_1",
        "colab_type": "code",
        "colab": {}
      },
      "source": [
        "ventas_train=pd.read_csv('machine-learning-curso/regresion/simple/data/kc_house_train_data.csv.zip', sep=',',header=0, dtype=dtype_dict, compression='zip')\n",
        "ventas_test=pd.read_csv('machine-learning-curso/regresion/simple/data/kc_house_test_data.csv.zip', sep=',',header=0, dtype=dtype_dict, compression='zip')"
      ],
      "execution_count": 0,
      "outputs": []
    },
    {
      "cell_type": "code",
      "metadata": {
        "id": "hUPU5fdBdENh",
        "colab_type": "code",
        "colab": {}
      },
      "source": [
        "X_train = ventas_train[prediction_var].values.reshape(-1,1)\n",
        "X_test = ventas_test[prediction_var].values.reshape(-1,1)\n",
        "y_train = ventas_train[criterion_var].values.reshape(-1,1)\n",
        "y_test = ventas_test[criterion_var].values.reshape(-1,1)"
      ],
      "execution_count": 0,
      "outputs": []
    },
    {
      "cell_type": "markdown",
      "metadata": {
        "id": "D2KkY2TMN1jk",
        "colab_type": "text"
      },
      "source": [
        "##Construir el modelo de regresión utilizando solamente el número de metros cuadrados como característica"
      ]
    },
    {
      "cell_type": "code",
      "metadata": {
        "id": "PMt4koy1N1jk",
        "colab_type": "code",
        "colab": {}
      },
      "source": [
        "sqft_model = linear_model.LinearRegression().fit(X_train,y_train)"
      ],
      "execution_count": 0,
      "outputs": []
    },
    {
      "cell_type": "code",
      "metadata": {
        "id": "Bf-Y7qGFSKGY",
        "colab_type": "code",
        "outputId": "9bdcf580-4750-4243-f7db-5b63e2ff7db9",
        "colab": {
          "base_uri": "https://localhost:8080/",
          "height": 33
        }
      },
      "source": [
        "sqft_model.score(X_test,y_test)"
      ],
      "execution_count": 0,
      "outputs": [
        {
          "output_type": "execute_result",
          "data": {
            "text/plain": [
              "0.4872491184162604"
            ]
          },
          "metadata": {
            "tags": []
          },
          "execution_count": 24
        }
      ]
    },
    {
      "cell_type": "code",
      "metadata": {
        "id": "cXGT8-asVz5D",
        "colab_type": "code",
        "outputId": "248f2b2e-f0fd-4e4c-e59d-60f018f9866d",
        "colab": {
          "base_uri": "https://localhost:8080/",
          "height": 66
        }
      },
      "source": [
        "cdf = pd.DataFrame(np.append(sqft_model.coef_,sqft_model.intercept_) , np.append(prediction_var,'(intercept)'), columns=['Coeficientes'])\n",
        "print(cdf)"
      ],
      "execution_count": 0,
      "outputs": [
        {
          "output_type": "stream",
          "text": [
            "             Coeficientes\n",
            "sqft_living    281.958840\n",
            "(intercept) -47116.079073\n"
          ],
          "name": "stdout"
        }
      ]
    },
    {
      "cell_type": "markdown",
      "metadata": {
        "id": "McmEMrWSN1jn",
        "colab_type": "text"
      },
      "source": [
        "#Evaluación del modelo"
      ]
    },
    {
      "cell_type": "code",
      "metadata": {
        "id": "K1Y_RobVN1jp",
        "colab_type": "code",
        "outputId": "4e33daba-aa09-436e-b3b6-5ba4f742bf34",
        "colab": {
          "base_uri": "https://localhost:8080/",
          "height": 33
        }
      },
      "source": [
        "print y_test.mean()"
      ],
      "execution_count": 0,
      "outputs": [
        {
          "output_type": "stream",
          "text": [
            "543054.0430361788\n"
          ],
          "name": "stdout"
        }
      ]
    },
    {
      "cell_type": "code",
      "metadata": {
        "id": "Ct_qeoajN1js",
        "colab_type": "code",
        "outputId": "74c9e91d-ce91-4da6-f413-81fe4ed9881d",
        "colab": {
          "base_uri": "https://localhost:8080/",
          "height": 33
        }
      },
      "source": [
        "ytest_pred = sqft_model.predict(X_test)\n",
        "\n",
        "mse = mean_squared_error(y_test, ytest_pred, sample_weight=None, multioutput='uniform_average')\n",
        "math.sqrt(mse)"
      ],
      "execution_count": 0,
      "outputs": [
        {
          "output_type": "execute_result",
          "data": {
            "text/plain": [
              "255191.04978195883"
            ]
          },
          "metadata": {
            "tags": []
          },
          "execution_count": 27
        }
      ]
    },
    {
      "cell_type": "markdown",
      "metadata": {
        "id": "zKbBKzhtN1ju",
        "colab_type": "text"
      },
      "source": [
        "RMSE es aproximadamente \\$255,191!"
      ]
    },
    {
      "cell_type": "markdown",
      "metadata": {
        "id": "re0nfvRKN1jv",
        "colab_type": "text"
      },
      "source": [
        "#Observamos qué pinta tienen las predicciones"
      ]
    },
    {
      "cell_type": "code",
      "metadata": {
        "id": "jbzJ0OimN1jz",
        "colab_type": "code",
        "colab": {}
      },
      "source": [
        "plt.plot(ventas_test[prediction_var],ventas_test[criterion_var],'.',\n",
        "        ventas_test[prediction_var],sqft_model.predict(X_test),'-')"
      ],
      "execution_count": 0,
      "outputs": []
    },
    {
      "cell_type": "markdown",
      "metadata": {
        "id": "LmY0Y585N1j2",
        "colab_type": "text"
      },
      "source": [
        "Los puntos azules son los datos originales, la línea es la predicción del modelo de regresión simple."
      ]
    },
    {
      "cell_type": "markdown",
      "metadata": {
        "id": "omjQESE8N1j4",
        "colab_type": "text"
      },
      "source": [
        "#Explorando otras características en los datos\n",
        "\n",
        "Para construir un modelo más elaborado, exploraremos más características de los datos"
      ]
    },
    {
      "cell_type": "code",
      "metadata": {
        "id": "d_BOJVw8N1j4",
        "colab_type": "code",
        "colab": {}
      },
      "source": [
        "more_predict_vars = ['bathrooms', 'waterfront', 'sqft_above', 'sqft_living15', 'grade', 'yr_renovated', 'bedrooms', 'zipcode', 'long', 'sqft_lot15', 'sqft_living', 'floors', 'condition', 'lat', 'sqft_basement', 'yr_built', 'sqft_lot', 'view']\n"
      ],
      "execution_count": 0,
      "outputs": []
    },
    {
      "cell_type": "code",
      "metadata": {
        "id": "Wk0ahwviN1j6",
        "colab_type": "code",
        "colab": {}
      },
      "source": [
        "ventas[more_predict_vars].head()"
      ],
      "execution_count": 0,
      "outputs": []
    },
    {
      "cell_type": "code",
      "metadata": {
        "id": "z75a4DYMBNsT",
        "colab_type": "code",
        "colab": {}
      },
      "source": [
        "corr_vars = np.append(more_predict_vars, criterion_var)\n",
        "sns.heatmap(ventas[corr_vars].corr())"
      ],
      "execution_count": 0,
      "outputs": []
    },
    {
      "cell_type": "markdown",
      "metadata": {
        "id": "w8zlBcabN1j-",
        "colab_type": "text"
      },
      "source": [
        "#Construcción de un modelo de regresión con más características"
      ]
    },
    {
      "cell_type": "code",
      "metadata": {
        "id": "Zrjh1Xj5N1j_",
        "colab_type": "code",
        "colab": {}
      },
      "source": [
        "\n",
        "X_train2 = ventas_train[more_predict_vars]\n",
        "X_test2 = ventas_test[more_predict_vars]\n",
        "more_features_model = linear_model.LinearRegression().fit(X_train2.values,y_train)"
      ],
      "execution_count": 0,
      "outputs": []
    },
    {
      "cell_type": "code",
      "metadata": {
        "id": "_rmL4TsRN1kC",
        "colab_type": "code",
        "colab": {}
      },
      "source": [
        "more_features_model.score(X_test2.values,y_test)"
      ],
      "execution_count": 0,
      "outputs": []
    },
    {
      "cell_type": "code",
      "metadata": {
        "id": "SDOANtiKDL1R",
        "colab_type": "code",
        "colab": {}
      },
      "source": [
        "ytest2_pred = more_features_model.predict(X_test2)\n",
        "\n",
        "mse2 = mean_squared_error(y_test, ytest2_pred, sample_weight=None)\n",
        "math.sqrt(mse2)"
      ],
      "execution_count": 0,
      "outputs": []
    },
    {
      "cell_type": "markdown",
      "metadata": {
        "id": "i0JITvrdR6Ln",
        "colab_type": "text"
      },
      "source": [
        "El RMSE ha bajado a 199.228€"
      ]
    },
    {
      "cell_type": "code",
      "metadata": {
        "id": "63Xo0kIMHR3e",
        "colab_type": "code",
        "colab": {}
      },
      "source": [
        "cdf = pd.DataFrame(np.append(more_features_model.coef_,more_features_model.intercept_) , np.append(more_predict_vars,'(intercept)'), columns=['Coeficientes'])\n",
        "print(cdf)"
      ],
      "execution_count": 0,
      "outputs": []
    },
    {
      "cell_type": "markdown",
      "metadata": {
        "id": "RSRjICFZN1kH",
        "colab_type": "text"
      },
      "source": [
        "#Aplicación de los modelos aprendidos para predecir el precio de dos casas distintas"
      ]
    },
    {
      "cell_type": "markdown",
      "metadata": {
        "id": "ua6vZYFMN1kH",
        "colab_type": "text"
      },
      "source": [
        "## La primera casa que usaremos se considera una vivienda \"promedio\" en Seattle\n"
      ]
    },
    {
      "cell_type": "code",
      "metadata": {
        "id": "NbCDK1vbN1kI",
        "colab_type": "code",
        "colab": {}
      },
      "source": [
        "house1 = ventas[ventas['id']=='5309101200']"
      ],
      "execution_count": 0,
      "outputs": []
    },
    {
      "cell_type": "code",
      "metadata": {
        "id": "PEFhdrHaN1kK",
        "colab_type": "code",
        "colab": {}
      },
      "source": [
        "house1"
      ],
      "execution_count": 0,
      "outputs": []
    },
    {
      "cell_type": "markdown",
      "metadata": {
        "id": "mKQ5OwiAN1kM",
        "colab_type": "text"
      },
      "source": [
        "<img src=\"http://info.kingcounty.gov/Assessor/eRealProperty/MediaHandler.aspx?Media=2916871\">"
      ]
    },
    {
      "cell_type": "code",
      "metadata": {
        "id": "_9WF9oTaN1kN",
        "colab_type": "code",
        "colab": {}
      },
      "source": [
        "print house1['price']"
      ],
      "execution_count": 0,
      "outputs": []
    },
    {
      "cell_type": "code",
      "metadata": {
        "id": "ElEWGWiDN1kO",
        "colab_type": "code",
        "colab": {}
      },
      "source": [
        "print sqft_model.predict(house1[prediction_var])"
      ],
      "execution_count": 0,
      "outputs": []
    },
    {
      "cell_type": "code",
      "metadata": {
        "id": "sBOzyDd1N1kP",
        "colab_type": "code",
        "colab": {}
      },
      "source": [
        "print more_features_model.predict(house1[more_predict_vars])"
      ],
      "execution_count": 0,
      "outputs": []
    },
    {
      "cell_type": "markdown",
      "metadata": {
        "id": "nCP53hIGN1kR",
        "colab_type": "text"
      },
      "source": [
        "En este caso el modelo con más características da una peor predicción que el modelo más simple con una sola característica. Sin embargo, en promedio, el modelo con mejores características es mejor."
      ]
    },
    {
      "cell_type": "markdown",
      "metadata": {
        "id": "4ahp4Wt7N1kS",
        "colab_type": "text"
      },
      "source": [
        "##Predicción de una segunda casa, más completa\n",
        "\n",
        "Examinaremos ahora la predicción para una casa más completa."
      ]
    },
    {
      "cell_type": "code",
      "metadata": {
        "id": "b9Xc5Ty6N1kT",
        "colab_type": "code",
        "colab": {}
      },
      "source": [
        "house2 = ventas[ventas['id']=='1925069082']"
      ],
      "execution_count": 0,
      "outputs": []
    },
    {
      "cell_type": "code",
      "metadata": {
        "id": "FFFSVI9bN1kV",
        "colab_type": "code",
        "colab": {}
      },
      "source": [
        "house2"
      ],
      "execution_count": 0,
      "outputs": []
    },
    {
      "cell_type": "markdown",
      "metadata": {
        "id": "W8jpCaTMN1kX",
        "colab_type": "text"
      },
      "source": [
        "<img src=\"https://ssl.cdn-redfin.com/photo/1/bigphoto/302/734302_0.jpg\">"
      ]
    },
    {
      "cell_type": "code",
      "metadata": {
        "id": "weKj7zInN1kX",
        "colab_type": "code",
        "colab": {}
      },
      "source": [
        "print sqft_model.predict(house2[prediction_var])"
      ],
      "execution_count": 0,
      "outputs": []
    },
    {
      "cell_type": "code",
      "metadata": {
        "id": "ASPnYeoKN1kZ",
        "colab_type": "code",
        "colab": {}
      },
      "source": [
        "print more_features_model.predict(house2[more_predict_vars])"
      ],
      "execution_count": 0,
      "outputs": []
    },
    {
      "cell_type": "markdown",
      "metadata": {
        "id": "4-chk2i6N1ka",
        "colab_type": "text"
      },
      "source": [
        "En este caso, el modelo con más características da una mejor predicción. Este comportamiento es el esperado aquí porque esta casa se diferencia más por las características que van más allá del número de metros cuadrados. Especialmente por el hecho de que es una casa con vistas al lago (waterfront)."
      ]
    },
    {
      "cell_type": "code",
      "metadata": {
        "id": "jzBMzaCoMuaC",
        "colab_type": "code",
        "colab": {}
      },
      "source": [
        ""
      ],
      "execution_count": 0,
      "outputs": []
    },
    {
      "cell_type": "markdown",
      "metadata": {
        "id": "UlTWBbhIcUlH",
        "colab_type": "text"
      },
      "source": [
        "# Regresión polinómica\n",
        "Vamos a estudiar el efecto de una transformación polinómica en el caso de la predicción del precio de la vivienda en función de la superficie"
      ]
    },
    {
      "cell_type": "markdown",
      "metadata": {
        "id": "GUi7xTNQeuLt",
        "colab_type": "text"
      },
      "source": [
        "Para ello, creamos primero una función auxiliar con la que construiremos dataframes con las potencias de una variable:"
      ]
    },
    {
      "cell_type": "code",
      "metadata": {
        "id": "t4dzGkIyc9vy",
        "colab_type": "code",
        "colab": {}
      },
      "source": [
        "def polynomial_df(feature, degree):\n",
        "  poly_df = pd.DataFrame()\n",
        "  poly_df['power_1'] = feature\n",
        "  if degree > 1:\n",
        "    for power in range(2, degree+1):\n",
        "      name = 'power_' + str(power)\n",
        "      poly_df[name] = feature.apply(lambda x : x**power)\n",
        "  return poly_df\n",
        "  "
      ],
      "execution_count": 0,
      "outputs": []
    },
    {
      "cell_type": "code",
      "metadata": {
        "id": "1Mg5urNgdOOP",
        "colab_type": "code",
        "colab": {}
      },
      "source": [
        "polynomial_df(ventas['sqft_living'], 3).head()"
      ],
      "execution_count": 0,
      "outputs": []
    },
    {
      "cell_type": "markdown",
      "metadata": {
        "id": "OT6pyYL8eiMI",
        "colab_type": "text"
      },
      "source": [
        "Lo siguiente que vamos a hacer es crear una función que entrene un modelo e imprima los coeficientes.\n",
        "Las funciones son muy útiles para organizar código y no tener que repetir las mismas sentencias una y otra vez."
      ]
    },
    {
      "cell_type": "code",
      "metadata": {
        "id": "ioRgouG1dWpe",
        "colab_type": "code",
        "colab": {}
      },
      "source": [
        "from scipy import stats\n",
        "def model_fit(X, X_labels, y, model_type = linear_model.LinearRegression(normalize=True)):\n",
        "  model = model_type.fit(X,y)\n",
        "  params = np.append(model.intercept_,model.coef_)\n",
        "  predictions = model.predict(X)\n",
        "\n",
        "  newX = pd.DataFrame({\"Constant\":np.ones(len(X))}).join(pd.DataFrame(X))\n",
        "  MSE = (sum((y-predictions)**2))/(len(newX)-len(newX.columns))\n",
        "\n",
        "  # Note if you don't want to use a DataFrame replace the two lines above with\n",
        "  # newX = np.append(np.ones((len(X),1)), X, axis=1)\n",
        "  # MSE = (sum((y-predictions)**2))/(len(newX)-len(newX[0]))\n",
        "\n",
        "  var_b = MSE*(np.linalg.inv(np.dot(newX.T,newX)).diagonal())\n",
        "  sd_b = np.sqrt(var_b)\n",
        "  ts_b = params/ sd_b\n",
        "\n",
        "  p_values =[2*(1-stats.t.cdf(np.abs(i),(len(newX)-1))) for i in ts_b]\n",
        "\n",
        "  sd_b = np.round(sd_b,3)\n",
        "  ts_b = np.round(ts_b,3)\n",
        "  p_values = np.round(p_values,3)\n",
        "  params = np.round(params,4)\n",
        "\n",
        "  myDF3 = pd.DataFrame()\n",
        "  myDF3[\"Coefficients\"],myDF3[\"Standard Errors\"],myDF3[\"t values\"],myDF3[\"Probabilites\"] = [params,sd_b,ts_b,p_values]\n",
        "  myDF3.index = np.append('(intercept)', X_labels)\n",
        "  print(myDF3)\n",
        "  #cdf = pd.DataFrame(np.append(model.coef_,model.intercept_) , np.append(X_labels,'(intercept)'), columns=['Coeficientes'])\n",
        "  #print(cdf)\n",
        "  return model\n",
        "\n"
      ],
      "execution_count": 0,
      "outputs": []
    },
    {
      "cell_type": "markdown",
      "metadata": {
        "id": "PcN_imQOe1IV",
        "colab_type": "text"
      },
      "source": [
        "Ahora vamos a escribir una función que entrene un modelo con un conjunto de entrenamiento, ejecute la predicción en un conjunto de test, representando dicha predicción en un gráfico, que imprima el score con el conjunto de entrenamiento y de test y que devuelva el modelo entrenado"
      ]
    },
    {
      "cell_type": "code",
      "metadata": {
        "id": "UM8tmxwkgO_W",
        "colab_type": "code",
        "colab": {}
      },
      "source": [
        "def model_train_and_test(train, test, feature, predictors, predicted, model_type = linear_model.LinearRegression(normalize=True)) :\n",
        "  model = model_fit(train[predictors], predictors, train[predicted], model_type)\n",
        "  sorted_df = test.sort_values([feature])\n",
        "  plt.scatter(sorted_df[feature], sorted_df[predicted],color='g')\n",
        "  plt.plot(sorted_df[feature], model.predict(sorted_df[predictors]),color='k')\n",
        "  score_train = model.score(train[predictors], train[predicted])\n",
        "  score_test = model.score(test[predictors], test[predicted])\n",
        "  print(\"Score train = \"+ str(score_train))\n",
        "  print(\"Score test = \"+ str(score_test))\n",
        "  rms_train = math.sqrt(mean_squared_error(train[predicted], model.predict(train[predictors])))\n",
        "  rms_test = math.sqrt(mean_squared_error(test[predicted], model.predict(test[predictors])))\n",
        "  print(\"RMSE train = \"+ str(rms_train))\n",
        "  print(\"RMSE test = \"+ str(rms_test))\n",
        "  eval_d = {'Score Train' : score_train, 'Score Test' : score_test, 'RMSE train' : rms_train, 'RMSE test' : rms_test}\n",
        "  plt.show()\n",
        "  return model, eval_d"
      ],
      "execution_count": 0,
      "outputs": []
    },
    {
      "cell_type": "code",
      "metadata": {
        "id": "Aejp4D5GiJEy",
        "colab_type": "code",
        "colab": {}
      },
      "source": [
        "eval_df = pd.DataFrame()\n",
        "for pow in range(1, 30):\n",
        "  print(\"Pow: \"+str(pow))\n",
        "  df_train_power = polynomial_df(ventas_train['sqft_living'], pow)\n",
        "  df_test_power = polynomial_df(ventas_test['sqft_living'], pow)\n",
        "  train_ds = pd.concat([df_train_power, ventas_train], axis=1)\n",
        "  test_ds = pd.concat([df_test_power, ventas_test], axis=1)\n",
        "  mod, eval_d = model_train_and_test(train_ds, test_ds, 'sqft_living', df_train_power.columns, 'price')\n",
        "  eval_df = eval_df.append(eval_d, ignore_index=True)"
      ],
      "execution_count": 0,
      "outputs": []
    },
    {
      "cell_type": "code",
      "metadata": {
        "id": "0vwjj7-gbW3-",
        "colab_type": "code",
        "colab": {}
      },
      "source": [
        "eval_df.index = range(1, 30)"
      ],
      "execution_count": 0,
      "outputs": []
    },
    {
      "cell_type": "markdown",
      "metadata": {
        "id": "eK_cXamRbWNa",
        "colab_type": "text"
      },
      "source": [
        ""
      ]
    },
    {
      "cell_type": "code",
      "metadata": {
        "id": "dZz1nnTJaEBk",
        "colab_type": "code",
        "colab": {}
      },
      "source": [
        "plt.plot(eval_df['RMSE test'])\n",
        "plt.plot(eval_df['RMSE train'])\n",
        "plt.show()"
      ],
      "execution_count": 0,
      "outputs": []
    },
    {
      "cell_type": "code",
      "metadata": {
        "id": "a4-5js-Xh_Ix",
        "colab_type": "code",
        "colab": {}
      },
      "source": [
        "plt.plot(eval_df['Score Train'])\n",
        "plt.plot(eval_df['Score Test'])\n",
        "plt.show()"
      ],
      "execution_count": 0,
      "outputs": []
    },
    {
      "cell_type": "markdown",
      "metadata": {
        "id": "y9r6xxaIMZCF",
        "colab_type": "text"
      },
      "source": [
        "#Añadiendo complejidad a la regresión múltiple\n",
        "En este apartado vamos a analizar el efecto de ir añadiendo poco a poco más variables predictoras al modelo"
      ]
    },
    {
      "cell_type": "code",
      "metadata": {
        "id": "rO6I41atMqKJ",
        "colab_type": "code",
        "colab": {}
      },
      "source": [
        "predictor_vars = ['bathrooms', 'waterfront', 'sqft_above', 'sqft_living', 'grade', 'yr_renovated', 'bedrooms']"
      ],
      "execution_count": 0,
      "outputs": []
    },
    {
      "cell_type": "markdown",
      "metadata": {
        "id": "EQGEvlYAN0yg",
        "colab_type": "text"
      },
      "source": [
        "Al igual que en la regresión polinómica, correremos el modelo varias veces. En cada vez le vamos añadiendo una variable más al modelo, para ver su evolución a medida que aumenta la complejidad\n"
      ]
    },
    {
      "cell_type": "code",
      "metadata": {
        "id": "4GO_MCspM0jB",
        "colab_type": "code",
        "cellView": "code",
        "colab": {}
      },
      "source": [
        "#@title Default title text\n",
        "eval_df = pd.DataFrame()\n",
        "predictors = []\n",
        "for var in predictor_vars:\n",
        "  predictors.append(var)\n",
        "  print(\"Vars: \"+str(predictors))\n",
        "  mod, eval_d = model_train_and_test(ventas_train, ventas_test, 'sqft_living', predictors, 'price')\n",
        "  eval_df = eval_df.append(eval_d, ignore_index=True)"
      ],
      "execution_count": 0,
      "outputs": []
    },
    {
      "cell_type": "code",
      "metadata": {
        "id": "acDxDYOUPNNl",
        "colab_type": "code",
        "colab": {}
      },
      "source": [
        "plt.plot(eval_df['RMSE test'])\n",
        "plt.plot(eval_df['RMSE train'])\n",
        "plt.show()"
      ],
      "execution_count": 0,
      "outputs": []
    },
    {
      "cell_type": "code",
      "metadata": {
        "id": "7ODfZPBMPsG3",
        "colab_type": "code",
        "colab": {}
      },
      "source": [
        "plt.plot(eval_df['Score Train'])\n",
        "plt.plot(eval_df['Score Test'])\n",
        "plt.show()"
      ],
      "execution_count": 0,
      "outputs": []
    },
    {
      "cell_type": "code",
      "metadata": {
        "id": "q6_MZ6pMPwTG",
        "colab_type": "code",
        "colab": {}
      },
      "source": [
        ""
      ],
      "execution_count": 0,
      "outputs": []
    },
    {
      "cell_type": "markdown",
      "metadata": {
        "id": "o9ptJcFiTNOz",
        "colab_type": "text"
      },
      "source": [
        "#Observando el overfitting en un modelo complejo\n",
        "Vamos a entrenar ahora dos modelos de regresión, simple y múltiple, pero cada uno con distintos conjuntos de entrenamiento"
      ]
    },
    {
      "cell_type": "code",
      "metadata": {
        "id": "7X8_q2fbTf9m",
        "colab_type": "code",
        "colab": {}
      },
      "source": [
        "train_set_aux_1, train_set_aux_2 = train_test_split(ventas_train, test_size=0.5, random_state=0)\n",
        "train_set_1, train_set_2 = train_test_split(train_set_aux_1, test_size=0.5, random_state=0)\n",
        "train_set_3, train_set_4 = train_test_split(train_set_aux_2, test_size=0.5, random_state=0)\n"
      ],
      "execution_count": 0,
      "outputs": []
    },
    {
      "cell_type": "markdown",
      "metadata": {
        "id": "L-2LJWG1TwR5",
        "colab_type": "text"
      },
      "source": [
        "## Modelo simple"
      ]
    },
    {
      "cell_type": "code",
      "metadata": {
        "id": "YU62AV9zTsVe",
        "colab_type": "code",
        "colab": {}
      },
      "source": [
        "mod_rs1, eval_rs1 = model_train_and_test(train_set_1, ventas_test, 'sqft_living', ['sqft_living'], 'price')\n",
        "mod_rs2, eval_rs2 = model_train_and_test(train_set_2, ventas_test, 'sqft_living', ['sqft_living'], 'price')\n",
        "mod_rs3, eval_rs3 = model_train_and_test(train_set_3, ventas_test, 'sqft_living', ['sqft_living'], 'price')\n",
        "mod_rs4, eval_rs4 = model_train_and_test(train_set_4, ventas_test, 'sqft_living', ['sqft_living'], 'price')"
      ],
      "execution_count": 0,
      "outputs": []
    },
    {
      "cell_type": "markdown",
      "metadata": {
        "id": "m4J2u_67UcLG",
        "colab_type": "text"
      },
      "source": [
        "Podemos observar que el coeficiente que se extrae no varía drásticamente cuando utilizamos un set diferente de datos, por lo que la varianza no es muy grande."
      ]
    },
    {
      "cell_type": "code",
      "metadata": {
        "id": "W27AhluSUSD-",
        "colab_type": "code",
        "colab": {}
      },
      "source": [
        ""
      ],
      "execution_count": 0,
      "outputs": []
    },
    {
      "cell_type": "markdown",
      "metadata": {
        "id": "_R92KOOeUu08",
        "colab_type": "text"
      },
      "source": [
        "##Modelo complejo"
      ]
    },
    {
      "cell_type": "code",
      "metadata": {
        "id": "Ws9kmDA_UySP",
        "colab_type": "code",
        "colab": {}
      },
      "source": [
        "pow = 5\n",
        "vars = predictor_vars\n",
        "pdf1 = polynomial_df(train_set_1['sqft_living'], pow)\n",
        "pdf2 = polynomial_df(train_set_2['sqft_living'], pow)\n",
        "pdf3 = polynomial_df(train_set_3['sqft_living'], pow)\n",
        "pdf4 = polynomial_df(train_set_4['sqft_living'], pow)\n",
        "pdftest = polynomial_df(ventas_test['sqft_living'], pow)\n",
        "train_set_complex_1 = pd.concat([pdf1, train_set_1], axis=1)\n",
        "train_set_complex_2 = pd.concat([pdf2, train_set_2], axis=1)\n",
        "train_set_complex_3 = pd.concat([pdf3, train_set_3], axis=1)\n",
        "train_set_complex_4 = pd.concat([pdf4, train_set_4], axis=1)\n",
        "ventas_set_complex = pd.concat([pdftest, ventas_test], axis=1)\n",
        "vars = vars + list(pdf1.columns)\n",
        "vars.remove('sqft_living')\n",
        "mod_rm1, eval_rs1 = model_train_and_test(train_set_complex_1, ventas_set_complex, 'sqft_living', vars, 'price')\n",
        "mod_rm2, eval_rs2 = model_train_and_test(train_set_complex_2, ventas_set_complex, 'sqft_living', vars, 'price')\n",
        "mod_rm3, eval_rs3 = model_train_and_test(train_set_complex_3, ventas_set_complex, 'sqft_living', vars, 'price')\n",
        "mod_rm4, eval_rs4 = model_train_and_test(train_set_complex_4, ventas_set_complex, 'sqft_living', vars, 'price')"
      ],
      "execution_count": 0,
      "outputs": []
    },
    {
      "cell_type": "markdown",
      "metadata": {
        "id": "uO6tsFjYa3JV",
        "colab_type": "text"
      },
      "source": [
        "Con diferente conjunto de datos vemos que un modelo más complejo tiene una varianza más alta, nos da resultados completamente diferentes. Estamos ante un caso de sobreajuste o overfitting"
      ]
    },
    {
      "cell_type": "markdown",
      "metadata": {
        "id": "Xm0maf_ccbtb",
        "colab_type": "text"
      },
      "source": [
        "# Añadiendo regularización al modelo\n",
        "A continuación vamos a entrenar modelos complejos utilizando Ridge regression, con el fin de ver el efecto de la regularización"
      ]
    },
    {
      "cell_type": "code",
      "metadata": {
        "id": "CUrC6q_AYws2",
        "colab_type": "code",
        "colab": {}
      },
      "source": [
        "pow = 3\n",
        "ridge_lambda = 2\n",
        "vars = predictor_vars\n",
        "pdf1 = polynomial_df(train_set_1['sqft_living'], pow)\n",
        "pdf2 = polynomial_df(train_set_2['sqft_living'], pow)\n",
        "pdf3 = polynomial_df(train_set_3['sqft_living'], pow)\n",
        "pdf4 = polynomial_df(train_set_4['sqft_living'], pow)\n",
        "pdftest = polynomial_df(ventas_test['sqft_living'], pow)\n",
        "train_set_complex_1 = pd.concat([pdf1, train_set_1], axis=1)\n",
        "train_set_complex_2 = pd.concat([pdf2, train_set_2], axis=1)\n",
        "train_set_complex_3 = pd.concat([pdf3, train_set_3], axis=1)\n",
        "train_set_complex_4 = pd.concat([pdf4, train_set_4], axis=1)\n",
        "ventas_set_complex = pd.concat([pdftest, ventas_test], axis=1)\n",
        "vars = vars + list(pdf1.columns)\n",
        "vars.remove('sqft_living')\n",
        "mod_rm1, eval_rs1 = model_train_and_test(train_set_complex_1, ventas_set_complex, 'sqft_living', vars, 'price', model_type = linear_model.Ridge(ridge_lambda, normalize=True))\n",
        "mod_rm2, eval_rs2 = model_train_and_test(train_set_complex_2, ventas_set_complex, 'sqft_living', vars, 'price', model_type = linear_model.Ridge(ridge_lambda, normalize=True))\n",
        "mod_rm3, eval_rs3 = model_train_and_test(train_set_complex_3, ventas_set_complex, 'sqft_living', vars, 'price', model_type = linear_model.Ridge(ridge_lambda, normalize=True))\n",
        "mod_rm4, eval_rs4 = model_train_and_test(train_set_complex_4, ventas_set_complex, 'sqft_living', vars, 'price', model_type = linear_model.Ridge(ridge_lambda, normalize=True))"
      ],
      "execution_count": 0,
      "outputs": []
    },
    {
      "cell_type": "code",
      "metadata": {
        "id": "XU6o0zDkdC4z",
        "colab_type": "code",
        "colab": {}
      },
      "source": [
        ""
      ],
      "execution_count": 0,
      "outputs": []
    },
    {
      "cell_type": "markdown",
      "metadata": {
        "id": "G99kaPdhtwdW",
        "colab_type": "text"
      },
      "source": [
        "#Train, Test y Validación\n",
        "Ejercicio: a continuación vamos a intentar obtener el mejor modelo posible de entre un conjunto de configuraciones que queramos probar.\n",
        "\n",
        "Este conjunto de configuraciónes será la combinación de:\n",
        "- El polinomio de la variable sqft_living, de 1 a 20.\n",
        "- El conjunto de variables que hemos utilizado en el ejemplo de regresión múltiple, añadiendo de 1 a 1 (sin el sqft_living, ya que estará como variable en el polinomio, 6 en total) dichas variables.\n",
        "- El parámetro de regulación: Probaremos con 0, 1 y 2\n",
        "\n",
        "En total estaremos probando 20x6x3=360 combinaciones diferentes de modelos.\n",
        "Para seleccionar el modelo utilizaremos el conjunto de test y nos quedaremos con aquel que de menor error o RMSE\n",
        "Finalmente mediremos el RMSE del modelo con el conjunto de validación."
      ]
    },
    {
      "cell_type": "markdown",
      "metadata": {
        "id": "Rgc29D0Uvcru",
        "colab_type": "text"
      },
      "source": [
        "## Paso 1: Separación de los datos de train, test y validación"
      ]
    },
    {
      "cell_type": "code",
      "metadata": {
        "id": "d4OYg36IvWSY",
        "colab_type": "code",
        "colab": {}
      },
      "source": [
        "train, aux = train_test_split(ventas, test_size=0.3, random_state=0)\n",
        "test, validation = train_test_split(aux, test_size=0.3, random_state=0)"
      ],
      "execution_count": 0,
      "outputs": []
    },
    {
      "cell_type": "markdown",
      "metadata": {
        "id": "oVi3pan1vou-",
        "colab_type": "text"
      },
      "source": [
        "## Paso 2: Obtener un listado con todas las combinaciones de variables y de parámetro de regulación del ejercicio"
      ]
    },
    {
      "cell_type": "code",
      "metadata": {
        "id": "wefVmxAhxgvn",
        "colab_type": "code",
        "colab": {}
      },
      "source": [
        "vars = list(predictor_vars)\n",
        "vars.remove('sqft_living')\n",
        "vars"
      ],
      "execution_count": 0,
      "outputs": []
    },
    {
      "cell_type": "code",
      "metadata": {
        "id": "i414G0WSv8qe",
        "colab_type": "code",
        "colab": {}
      },
      "source": [
        "configs = []\n",
        "for reg in range(0,3):\n",
        "  powers = []\n",
        "  for power in range(1, 21):\n",
        "    powers.append('power_'+str(power))\n",
        "    predictors = list(vars) + list(powers)\n",
        "    configs.append({'reg' : reg, 'predictors' : predictors})\n",
        "configs\n",
        "    "
      ],
      "execution_count": 0,
      "outputs": []
    },
    {
      "cell_type": "markdown",
      "metadata": {
        "id": "xcI_Zm4kwAvm",
        "colab_type": "text"
      },
      "source": [
        "## Paso 3: Entrenar todos los modelos"
      ]
    },
    {
      "cell_type": "code",
      "metadata": {
        "id": "FGME7gVDwDuO",
        "colab_type": "code",
        "colab": {}
      },
      "source": [
        "pdftrain = polynomial_df(train['sqft_living'], 20)\n",
        "pdftest = polynomial_df(test['sqft_living'], 20)\n",
        "train_set_complex = pd.concat([pdftrain, train], axis=1)\n",
        "test_set_complex = pd.concat([pdftest, test], axis=1)\n",
        "\n",
        "models = []\n",
        "for config in configs:\n",
        "  model, ev = model_train_and_test(train_set_complex, test_set_complex, 'sqft_living', config['predictors'], 'price', model_type = linear_model.Ridge(config['reg'], normalize=True))\n",
        "  models.append({'config': config, 'model' : model, 'train_err' : ev['RMSE train'], 'test_err' : ev['RMSE test']})\n",
        "  \n",
        "models_df = pd.DataFrame(models)"
      ],
      "execution_count": 0,
      "outputs": []
    },
    {
      "cell_type": "markdown",
      "metadata": {
        "id": "VC7QDRMywG_s",
        "colab_type": "text"
      },
      "source": [
        "## Paso 4: Extraer el error de test de todos los modelos"
      ]
    },
    {
      "cell_type": "code",
      "metadata": {
        "id": "nbfowBi53ffY",
        "colab_type": "code",
        "colab": {}
      },
      "source": [
        "models_df.sort_values('test_err').head()"
      ],
      "execution_count": 0,
      "outputs": []
    },
    {
      "cell_type": "markdown",
      "metadata": {
        "id": "HV5X8LFAwRRb",
        "colab_type": "text"
      },
      "source": [
        "## Paso 4: Determinar el modelo seleccionado y calcular el error con el conjunto de validación"
      ]
    },
    {
      "cell_type": "code",
      "metadata": {
        "id": "KN-Qv67e333G",
        "colab_type": "code",
        "colab": {}
      },
      "source": [
        "best_model = models_df.sort_values('test_err').iloc[0]['model']\n",
        "best_config = models_df.sort_values('test_err').iloc[0]['config']"
      ],
      "execution_count": 0,
      "outputs": []
    },
    {
      "cell_type": "code",
      "metadata": {
        "id": "xh-cj1i54MSS",
        "colab_type": "code",
        "colab": {}
      },
      "source": [
        "best_config"
      ],
      "execution_count": 0,
      "outputs": []
    },
    {
      "cell_type": "code",
      "metadata": {
        "id": "chH3PwNowX9P",
        "colab_type": "code",
        "colab": {}
      },
      "source": [
        "pdfvalidation = polynomial_df(validation['sqft_living'], 20)\n",
        "validation_set_complex = pd.concat([pdfvalidation, validation], axis=1)\n",
        "\n",
        "best_model = models_df.sort_values('test_err').iloc[0]['model']\n",
        "best_model.score(validation_set_complex[best_config['predictors']], validation_set_complex['price'])"
      ],
      "execution_count": 0,
      "outputs": []
    },
    {
      "cell_type": "code",
      "metadata": {
        "id": "nclnL7Sa4BWU",
        "colab_type": "code",
        "colab": {}
      },
      "source": [
        "validation_pred = best_model.predict(validation_set_complex[best_config['predictors']])\n",
        "math.sqrt(mean_squared_error(validation_pred, validation_set_complex['price'], sample_weight=None))"
      ],
      "execution_count": 0,
      "outputs": []
    },
    {
      "cell_type": "code",
      "metadata": {
        "id": "ZdoKbHSc4yxv",
        "colab_type": "code",
        "colab": {}
      },
      "source": [
        ""
      ],
      "execution_count": 0,
      "outputs": []
    }
  ]
}